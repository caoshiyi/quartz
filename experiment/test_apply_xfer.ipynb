{
 "cells": [
  {
   "cell_type": "code",
   "execution_count": 1,
   "metadata": {},
   "outputs": [],
   "source": [
    "# A warning message from DGL will appear which seems to be related to an open issue in the DGL library, \n",
    "# it won't hurt the execution of the program, please ignore it.\n",
    "import quartz\n",
    "quartz_context = quartz.QuartzContext(gate_set=['h', 'cx', 't', 'tdg'], filename='../bfs_verified_simplified.json', no_increase=True)\n",
    "parser = quartz.PyQASMParser(context=quartz_context)\n",
    "# my_dag = parser.load_qasm(filename=\"barenco_tof_3_opt_path/subst_history_39.qasm\")\n",
    "my_dag = parser.load_qasm(filename='near_56.qasm')\n",
    "my_dag.num_qubits, my_dag.num_gates\n",
    "my_graph = quartz.PyGraph(context=quartz_context, dag=my_dag)"
   ]
  },
  {
   "cell_type": "code",
   "execution_count": 2,
   "metadata": {},
   "outputs": [
    {
     "name": "stdout",
     "output_type": "stream",
     "text": [
      "[3164]\n",
      "[3164]\n",
      "[3164]\n",
      "[3164]\n",
      "[3164]\n",
      "[2839, 2958, 3164]\n",
      "[3164]\n",
      "[3015, 3071, 3164]\n",
      "[428, 429, 1117, 1118, 1304, 1305, 3164]\n",
      "[3164]\n",
      "[2896, 2897, 3164]\n",
      "[3164]\n",
      "[3164]\n",
      "[3164]\n",
      "[3164]\n",
      "[3164]\n",
      "[3164]\n",
      "[3164]\n",
      "[3164]\n",
      "[3164]\n",
      "[428, 429, 1117, 1118, 1304, 1305, 3164]\n",
      "[1072, 1526, 1709, 2896, 2897, 3164]\n",
      "[3164]\n",
      "[3164]\n",
      "[3164]\n",
      "[61, 3164]\n",
      "[3164]\n",
      "[3164]\n",
      "[1956, 3164]\n",
      "[3164]\n",
      "[3164]\n",
      "[3164]\n",
      "[2839, 2958, 3164]\n",
      "[3164]\n",
      "[926, 927, 928, 3164]\n",
      "[2775, 2916, 3164]\n",
      "[428, 429, 1117, 1118, 1304, 1305, 3164]\n",
      "[3164]\n",
      "[3164]\n",
      "[3164]\n",
      "[3164]\n",
      "[3164]\n",
      "[2839, 2958, 3164]\n",
      "[3164]\n",
      "[2838, 2957, 3164]\n",
      "[2839, 2958, 3164]\n",
      "[3164]\n",
      "[2838, 2957, 3164]\n",
      "[3164]\n",
      "[3164]\n",
      "[428, 429, 1117, 1118, 1304, 1305, 3164]\n",
      "[2746, 2747, 2826, 2929, 3164]\n",
      "[3164]\n",
      "[3164]\n",
      "[3164]\n",
      "[2774, 2915, 3164]\n",
      "[3164]\n",
      "[3164]\n"
     ]
    }
   ],
   "source": [
    "all_nodes = my_graph.all_nodes()\n",
    "\n",
    "# available_xfer_matrix = my_graph.get_available_xfers_matrix(context=quartz_context)\n",
    "for node in all_nodes:\n",
    "    print(my_graph.available_xfers(context=quartz_context, node=node))"
   ]
  },
  {
   "cell_type": "code",
   "execution_count": 4,
   "metadata": {},
   "outputs": [
    {
     "name": "stdout",
     "output_type": "stream",
     "text": [
      "[32, 34]\n",
      "[32, 34]\n"
     ]
    },
    {
     "data": {
      "text/plain": [
       "(8661658053731857188, 8661658053731857188)"
      ]
     },
     "execution_count": 4,
     "metadata": {},
     "output_type": "execute_result"
    }
   ],
   "source": [
    "# new_graph = my_graph.apply_xfer(xfer=quartz_context.get_xfer_from_id(id=926), node=all_nodes[34])\n",
    "# new_graph = new_graph.apply_xfer(xfer=quartz_context.get_xfer_from_id(id=2957), node=new_graph.get_node_from_id(id=42))\n",
    "# new_graph = new_graph.apply_xfer(xfer=quartz_context.get_xfer_from_id(id=2827), node=new_graph.get_node_from_id(id=47))\n",
    "# new_graph = new_graph.apply_xfer(xfer=quartz_context.get_xfer_from_id(id=926), node=new_graph.get_node_from_id(id=54))\n",
    "# new_graph.gate_count\n",
    "new_graph_0 ,_= my_graph.apply_xfer_with_local_state_tracking(xfer=quartz_context.get_xfer_from_id(id=926), node=all_nodes[34])\n",
    "print(_)\n",
    "new_graph_1 ,_= my_graph.apply_xfer_with_local_state_tracking(xfer=quartz_context.get_xfer_from_id(id=928), node=all_nodes[34])\n",
    "print(_)\n",
    "\n",
    "# new_graph ,_= new_graph.apply_xfer_with_local_state_tracking(xfer=quartz_context.get_xfer_from_id(id=2957), node=new_graph.get_node_from_id(id=42))\n",
    "# new_graph ,_= new_graph.apply_xfer_with_local_state_tracking(xfer=quartz_context.get_xfer_from_id(id=2827), node=new_graph.get_node_from_id(id=47))\n",
    "# new_graph ,_= new_graph.apply_xfer_with_local_state_tracking(xfer=quartz_context.get_xfer_from_id(id=926), node=new_graph.get_node_from_id(id=54))\n",
    "# print(_)\n",
    "# new_graph.gate_count\n",
    "new_graph_0.hash(), new_graph_1.hash()"
   ]
  },
  {
   "cell_type": "code",
   "execution_count": 24,
   "metadata": {},
   "outputs": [
    {
     "data": {
      "text/plain": [
       "[53]"
      ]
     },
     "execution_count": 24,
     "metadata": {},
     "output_type": "execute_result"
    }
   ],
   "source": [
    "new_graph, node_id = my_graph.apply_xfer_with_local_state_tracking(xfer=quartz_context.get_xfer_from_id(id=3511), node=all_nodes[53])\n",
    "node_id"
   ]
  }
 ],
 "metadata": {
  "interpreter": {
   "hash": "96b51c792a6989d4839d314c065544fba67e314d7b530d0571cf3625bc1ceb7e"
  },
  "kernelspec": {
   "display_name": "Python 3.8.12 ('quantum')",
   "language": "python",
   "name": "python3"
  },
  "language_info": {
   "codemirror_mode": {
    "name": "ipython",
    "version": 3
   },
   "file_extension": ".py",
   "mimetype": "text/x-python",
   "name": "python",
   "nbconvert_exporter": "python",
   "pygments_lexer": "ipython3",
   "version": "3.8.12"
  },
  "orig_nbformat": 4
 },
 "nbformat": 4,
 "nbformat_minor": 2
}
