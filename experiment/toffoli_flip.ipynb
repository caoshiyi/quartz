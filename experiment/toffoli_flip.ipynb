{
 "cells": [
  {
   "cell_type": "code",
   "execution_count": 3,
   "metadata": {},
   "outputs": [],
   "source": [
    "import os\n",
    "from os.path import join, isfile\n",
    "\n",
    "qasm_path = os.getcwd() + '/t_tdg_h_cx_toffoli_flip_dataset/'\n",
    "qasm_fns = [\n",
    "    fn for fn in os.listdir(qasm_path)\n",
    "    if isfile(join(qasm_path, fn)) and fn[-12:] == 'toffoli_flip'\n",
    "]\n",
    "\n",
    "for fn in qasm_fns:\n",
    "    full_fn = qasm_path + fn\n",
    "    with open(full_fn, 'r') as fin:\n",
    "        qasm_str = fin.read()\n",
    "        qasm_strs = qasm_str.split('\\n')\n",
    "        with open(f'{full_fn[:-18]}_after_toffoli_flip.qasm', 'w') as fout:\n",
    "            for s in qasm_strs:\n",
    "                if s == '\\n' or s == '':\n",
    "                    continue\n",
    "                s = s.replace('rz(pi*-0.250000)', 'tdg')\n",
    "                s = s.replace('rz(pi*0.250000)', 't')\n",
    "                s += '\\n'\n",
    "                fout.write(s)"
   ]
  }
 ],
 "metadata": {
  "interpreter": {
   "hash": "96b51c792a6989d4839d314c065544fba67e314d7b530d0571cf3625bc1ceb7e"
  },
  "kernelspec": {
   "display_name": "Python 3.8.12 ('quantum')",
   "language": "python",
   "name": "python3"
  },
  "language_info": {
   "codemirror_mode": {
    "name": "ipython",
    "version": 3
   },
   "file_extension": ".py",
   "mimetype": "text/x-python",
   "name": "python",
   "nbconvert_exporter": "python",
   "pygments_lexer": "ipython3",
   "version": "3.9.12"
  },
  "orig_nbformat": 4
 },
 "nbformat": 4,
 "nbformat_minor": 2
}
